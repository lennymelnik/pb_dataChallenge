{
  "nbformat": 4,
  "nbformat_minor": 0,
  "metadata": {
    "colab": {
      "name": "Copy of analyzingData.ipynb",
      "provenance": [],
      "collapsed_sections": [],
      "authorship_tag": "ABX9TyOstvEXf1IxnNDOnxc6RL1r",
      "include_colab_link": true
    },
    "kernelspec": {
      "name": "python3",
      "display_name": "Python 3"
    }
  },
  "cells": [
    {
      "cell_type": "markdown",
      "metadata": {
        "id": "view-in-github",
        "colab_type": "text"
      },
      "source": [
        "<a href=\"https://colab.research.google.com/github/lennymelnik/pb_dataChallenge/blob/master/LSTM-V1.ipynb\" target=\"_parent\"><img src=\"https://colab.research.google.com/assets/colab-badge.svg\" alt=\"Open In Colab\"/></a>"
      ]
    },
    {
      "cell_type": "markdown",
      "metadata": {
        "id": "AfD-DMeFujpf",
        "colab_type": "text"
      },
      "source": [
        "### Predicting Returns\n",
        "\n",
        "Team A\n",
        "\n",
        "This Version was created by Leonard Melnik\n",
        "\n",
        "### First I imported all the librarys that I will need\n",
        "\n"
      ]
    },
    {
      "cell_type": "code",
      "metadata": {
        "id": "ItwSXr6yyxUe",
        "colab_type": "code",
        "colab": {}
      },
      "source": [
        "from datetime import datetime, timedelta,date\n",
        "import pandas as pd\n",
        "%matplotlib inline\n",
        "import matplotlib.pyplot as plt\n",
        "import numpy as np\n",
        "from __future__ import division\n",
        "\n",
        "import warnings\n",
        "warnings.filterwarnings(\"ignore\")\n",
        "\n",
        "#import Keras\n",
        "import keras\n",
        "from keras.layers import Dense\n",
        "from keras.models import Sequential\n",
        "from keras.optimizers import Adam \n",
        "from keras.callbacks import EarlyStopping\n",
        "from keras.utils import np_utils\n",
        "from keras.layers import LSTM\n",
        "from sklearn.model_selection import KFold, cross_val_score, train_test_split"
      ],
      "execution_count": 0,
      "outputs": []
    },
    {
      "cell_type": "markdown",
      "metadata": {
        "id": "0P0sdQht1xu2",
        "colab_type": "text"
      },
      "source": [
        "# Data Preprocessing\n",
        "##### The Delivery Volume is a modified version of the data we were given. I removed the first three days because they lacked any substancial data and would pollute any results\n",
        "\n",
        "##### I also decided to import the Dow Jones, just incase its data would prove its correlation"
      ]
    },
    {
      "cell_type": "code",
      "metadata": {
        "id": "dtB02zXTsJAY",
        "colab_type": "code",
        "colab": {
          "base_uri": "https://localhost:8080/",
          "height": 265
        },
        "outputId": "22b0d461-498a-4bf6-ce80-292b46760dc4"
      },
      "source": [
        "df_volume = pd.read_csv('https://raw.githubusercontent.com/lennymelnik/pb_dataChallenge/master/data/Delivery_Volume1.csv', index_col=['DELIVERY_DATE'], parse_dates=['DELIVERY_DATE'])\n",
        "df_dji = pd.read_csv('https://raw.githubusercontent.com/lennymelnik/pb_dataChallenge/master/data/DJI.csv')\n",
        "\n",
        "\n",
        "df_dji = df_dji.set_index('Date')\n",
        "\n",
        "idx = pd.date_range('03-18-2019', '06-02-2019')\n",
        "df_dji.index = pd.DatetimeIndex(df_dji.index)\n",
        "df_dji = df_dji.reindex(idx, fill_value=0)\n",
        "\n",
        "df_volume.sort_index(inplace=True)\n",
        "\n",
        "df_volume['dji'] = df_dji['Adj Close']\n",
        "\n",
        "df_volume=df_volume.fillna(0)\n",
        "\n",
        "plt.plot(df_volume.index.values, df_volume['DELIVERED_VOLUME'])\n",
        "plt.show()"
      ],
      "execution_count": 197,
      "outputs": [
        {
          "output_type": "display_data",
          "data": {
            "image/png": "[encoded data removed]",
            "text/plain": [
              "<Figure size 432x288 with 1 Axes>"
            ]
          },
          "metadata": {
            "tags": [],
            "needs_background": "light"
          }
        }
      ]
    },
    {
      "cell_type": "markdown",
      "metadata": {
        "id": "fFuKZ-tR2VPE",
        "colab_type": "text"
      },
      "source": [
        "# What I was able to understand from the data\n",
        "If you look at the plot above, you can see that after there are no returns, there will always be a spike. And that spike is going to be the highest amount of returns that will happen that week.\n",
        "\n",
        "The longer people cannot return products, the higher the spike will be. \n",
        "\n",
        "If you look at the last spike you can see it is much higher than the others. This is because it was memorial day weekend. Where people were unable to return anything for a longer period of time. So they had more saved up to return."
      ]
    },
    {
      "cell_type": "code",
      "metadata": {
        "id": "F38e8XC2uSUE",
        "colab_type": "code",
        "colab": {}
      },
      "source": [
        "date_dataFrame = pd.to_datetime(df_volume.index.values)\n",
        "\n",
        "weekdayArr = []\n",
        "toDrop = []\n",
        "for i in range(len(df_volume.DELIVERED_VOLUME)):\n",
        "    \n",
        "    weekday = date_dataFrame[i].weekday()\n",
        "    #if(weekday == 6 or weekday == 5):\n",
        "    #  toDrop.append(df_volume.index[i])\n",
        "    weekdayArr.append(date_dataFrame[i].weekday())\n",
        "\n",
        "df_volume['Weekday'] = weekdayArr\n",
        "\n",
        "#df_volume = df_volume.drop(toDrop, axis=0)\n"
      ],
      "execution_count": 0,
      "outputs": []
    },
    {
      "cell_type": "code",
      "metadata": {
        "id": "H7lPti_vuYxh",
        "colab_type": "code",
        "colab": {}
      },
      "source": [
        "\n",
        "\n",
        "#create a new dataframe to model the difference\n",
        "df_diff = df_volume.copy()\n",
        "#add previous sales to the next row\n",
        "df_diff['prev_vol'] = df_diff['DELIVERED_VOLUME'].shift(1)\n",
        "#drop the null values and calculate the difference\n",
        "df_diff = df_diff.dropna()\n",
        "df_diff['diff'] = (df_diff['DELIVERED_VOLUME'] - df_diff['prev_vol'])\n",
        "\n",
        "plt.plot(df_diff.index.values, df_diff['diff'])\n"
      ],
      "execution_count": 0,
      "outputs": []
    },
    {
      "cell_type": "code",
      "metadata": {
        "id": "fEwFhIGkucr2",
        "colab_type": "code",
        "colab": {}
      },
      "source": [
        "\n",
        "#create dataframe for transformation from time series to supervised\n",
        "df_supervised = df_diff.drop(['prev_vol'],axis=1)\n",
        "#adding lags\n",
        "for inc in range(1,13):\n",
        "    field_name = 'lag_' + str(inc)\n",
        "    df_supervised[field_name] = df_supervised['diff'].shift(inc)\n",
        "#drop null values\n",
        "df_supervised = df_supervised.dropna().reset_index(drop=True)\n",
        "\n",
        "df_supervised.head(80)\n"
      ],
      "execution_count": 0,
      "outputs": []
    },
    {
      "cell_type": "code",
      "metadata": {
        "id": "lNmEDbzZufqr",
        "colab_type": "code",
        "colab": {}
      },
      "source": [
        "\n",
        "# Import statsmodels.formula.api\n",
        "import statsmodels.formula.api as smf\n",
        "# Define the regression formula\n",
        "#model = smf.ols(formula='diff ~ lag_1 + lag_2 + lag_3 + lag_4 + lag_5 + lag_6 + lag_7 + lag_8 + lag_9 + lag_10 + lag_11 +lag_12', data=df_supervised).fit()\n",
        "model = smf.ols(formula='DELIVERED_VOLUME ~ Facility_A + Facility_B + Facility_C + Facility_D + Facility_E + Facility_F + Facility_G + Facility_H + Facility_I + Weekday  + dji', data=df_supervised).fit()\n",
        "# Fit the regression\n",
        "\n",
        "\n",
        "\n",
        "# Extract the adjusted r-squared\n",
        "regression_adj_rsq = model.rsquared_adj\n",
        "print(regression_adj_rsq)\n",
        "\n",
        "print(df_supervised)"
      ],
      "execution_count": 0,
      "outputs": []
    }
  ]
}