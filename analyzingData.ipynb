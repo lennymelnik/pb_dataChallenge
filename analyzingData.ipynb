{
  "nbformat": 4,
  "nbformat_minor": 0,
  "metadata": {
    "colab": {
      "name": "analyzingData.ipynb",
      "provenance": [],
      "collapsed_sections": [],
      "authorship_tag": "ABX9TyPNpyrL6So8OjEl6NiwNIVz",
      "include_colab_link": true
    },
    "kernelspec": {
      "name": "python3",
      "display_name": "Python 3"
    }
  },
  "cells": [
    {
      "cell_type": "markdown",
      "metadata": {
        "id": "view-in-github",
        "colab_type": "text"
      },
      "source": [
        "<a href=\"https://colab.research.google.com/github/lennymelnik/pb_dataChallenge/blob/master/analyzingData.ipynb\" target=\"_parent\"><img src=\"https://colab.research.google.com/assets/colab-badge.svg\" alt=\"Open In Colab\"/></a>"
      ]
    },
    {
      "cell_type": "code",
      "metadata": {
        "id": "ItwSXr6yyxUe",
        "colab_type": "code",
        "colab": {
          "base_uri": "https://localhost:8080/",
          "height": 1000
        },
        "outputId": "d97a9152-a986-4983-e258-bc7181d842b8"
      },
      "source": [
        "from datetime import datetime, timedelta,date\n",
        "import pandas as pd\n",
        "%matplotlib inline\n",
        "import matplotlib.pyplot as plt\n",
        "import numpy as np\n",
        "from __future__ import division\n",
        "\n",
        "import warnings\n",
        "warnings.filterwarnings(\"ignore\")\n",
        "\n",
        "#import Keras\n",
        "import keras\n",
        "from keras.layers import Dense\n",
        "from keras.models import Sequential\n",
        "from keras.optimizers import Adam \n",
        "from keras.callbacks import EarlyStopping\n",
        "from keras.utils import np_utils\n",
        "from keras.layers import LSTM\n",
        "from sklearn.model_selection import KFold, cross_val_score, train_test_split\n",
        "\n",
        "#initiate plotly\n",
        "\n",
        "\n",
        "Delivery = pd.read_csv('https://raw.githubusercontent.com/lennymelnik/pb_dataChallenge/master/data/Delivery_Volume.csv', index_col=['DELIVERY_DATE'], parse_dates=['DELIVERY_DATE'])\n",
        "Delivery.sort_index(inplace=True)\n",
        "\n",
        "Delivery=Delivery.fillna(0)\n",
        "\n",
        "date_dataFrame = pd.to_datetime(Delivery.index.values)\n",
        "\n",
        "weekdayArr = []\n",
        "toDrop = []\n",
        "for i in range(len(Delivery.DELIVERED_VOLUME)):\n",
        "    \n",
        "    weekday = date_dataFrame[i].weekday()\n",
        "    if(weekday == 6 or weekday == 5):\n",
        "      toDrop.append(Delivery.index[i])\n",
        "    weekdayArr.append(date_dataFrame[i].weekday())\n",
        "    \n",
        "print(toDrop)\n",
        "\n",
        "Delivery['Weekday'] = weekdayArr\n",
        "\n",
        "Delivery = Delivery.drop(toDrop, axis=0)\n",
        "print(Delivery)\n",
        "\n",
        "plt.plot(Delivery.index.values, Delivery['DELIVERED_VOLUME'])\n",
        "\n",
        "\n"
      ],
      "execution_count": 28,
      "outputs": [
        {
          "output_type": "stream",
          "text": [
            "[Timestamp('2019-03-23 00:00:00'), Timestamp('2019-03-24 00:00:00'), Timestamp('2019-03-30 00:00:00'), Timestamp('2019-03-31 00:00:00'), Timestamp('2019-04-06 00:00:00'), Timestamp('2019-04-07 00:00:00'), Timestamp('2019-04-13 00:00:00'), Timestamp('2019-04-14 00:00:00'), Timestamp('2019-04-20 00:00:00'), Timestamp('2019-04-21 00:00:00'), Timestamp('2019-04-27 00:00:00'), Timestamp('2019-04-28 00:00:00'), Timestamp('2019-05-04 00:00:00'), Timestamp('2019-05-05 00:00:00'), Timestamp('2019-05-11 00:00:00'), Timestamp('2019-05-12 00:00:00'), Timestamp('2019-05-18 00:00:00'), Timestamp('2019-05-19 00:00:00'), Timestamp('2019-05-25 00:00:00'), Timestamp('2019-05-26 00:00:00'), Timestamp('2019-06-01 00:00:00'), Timestamp('2019-06-02 00:00:00')]\n",
            "               DELIVERED_VOLUME  Facility_A  ...  Facility_K  Weekday\n",
            "DELIVERY_DATE                                ...                     \n",
            "2019-03-13                  0.0         0.0  ...         0.0        2\n",
            "2019-03-14                  0.0         0.0  ...         0.0        3\n",
            "2019-03-15                  0.0         0.0  ...         0.0        4\n",
            "2019-03-18                  0.0         0.0  ...         0.0        0\n",
            "2019-03-19                  0.0        13.0  ...         0.0        1\n",
            "2019-03-20                  0.0       275.0  ...         0.0        2\n",
            "2019-03-21                  0.0       213.0  ...         0.0        3\n",
            "2019-03-22                840.0       143.0  ...         0.0        4\n",
            "2019-03-25               1694.0       213.0  ...         0.0        0\n",
            "2019-03-26               1183.0       202.0  ...         0.0        1\n",
            "2019-03-27                905.0       172.0  ...         0.0        2\n",
            "2019-03-28                682.0       226.0  ...         0.0        3\n",
            "2019-03-29               1463.0       158.0  ...         0.0        4\n",
            "2019-04-01               1860.0       237.0  ...         0.0        0\n",
            "2019-04-02                911.0       290.0  ...         0.0        1\n",
            "2019-04-03                780.0       285.0  ...         0.0        2\n",
            "2019-04-04               1213.0       261.0  ...         0.0        3\n",
            "2019-04-05               1411.0       177.0  ...         0.0        4\n",
            "2019-04-08               2003.0       247.0  ...         0.0        0\n",
            "2019-04-09               1077.0       321.0  ...         0.0        1\n",
            "2019-04-10                883.0       260.0  ...         0.0        2\n",
            "2019-04-11               1073.0       241.0  ...         0.0        3\n",
            "2019-04-12               1566.0       215.0  ...         0.0        4\n",
            "2019-04-15               2042.0       262.0  ...         0.0        0\n",
            "2019-04-16               1033.0       320.0  ...         0.0        1\n",
            "2019-04-17                907.0       265.0  ...         0.0        2\n",
            "2019-04-18               1312.0       302.0  ...         0.0        3\n",
            "2019-04-19               1307.0       194.0  ...         0.0        4\n",
            "2019-04-22               2140.0       293.0  ...         0.0        0\n",
            "2019-04-23               1394.0       287.0  ...         0.0        1\n",
            "2019-04-24               1030.0       288.0  ...         0.0        2\n",
            "2019-04-25                862.0       264.0  ...         0.0        3\n",
            "2019-04-26               1621.0       250.0  ...         0.0        4\n",
            "2019-04-29               2047.0       245.0  ...         0.0        0\n",
            "2019-04-30               1531.0       267.0  ...         0.0        1\n",
            "2019-05-01                857.0       278.0  ...         0.0        2\n",
            "2019-05-02               1070.0       292.0  ...         0.0        3\n",
            "2019-05-03               1511.0       229.0  ...         0.0        4\n",
            "2019-05-06               2147.0       231.0  ...         0.0        0\n",
            "2019-05-07               1210.0       298.0  ...        20.0        1\n",
            "2019-05-08                721.0       229.0  ...         8.0        2\n",
            "2019-05-09               1554.0       249.0  ...         8.0        3\n",
            "2019-05-10               1251.0       211.0  ...        12.0        4\n",
            "2019-05-13               1946.0       237.0  ...         6.0        0\n",
            "2019-05-14               1056.0       319.0  ...        12.0        1\n",
            "2019-05-15               1052.0       334.0  ...        10.0        2\n",
            "2019-05-16               1054.0       268.0  ...         6.0        3\n",
            "2019-05-17               1464.0       195.0  ...         9.0        4\n",
            "2019-05-20               1897.0       268.0  ...        10.0        0\n",
            "2019-05-21               1613.0       253.0  ...        11.0        1\n",
            "2019-05-22                932.0       250.0  ...        12.0        2\n",
            "2019-05-23               1064.0       315.0  ...         5.0        3\n",
            "2019-05-24               1469.0       224.0  ...        12.0        4\n",
            "2019-05-27                  0.0         0.0  ...         0.0        0\n",
            "2019-05-28               2326.0       242.0  ...         7.0        1\n",
            "2019-05-29               1398.0       284.0  ...         8.0        2\n",
            "2019-05-30                628.0       264.0  ...         8.0        3\n",
            "2019-05-31                992.0       208.0  ...        10.0        4\n",
            "\n",
            "[58 rows x 13 columns]\n"
          ],
          "name": "stdout"
        },
        {
          "output_type": "execute_result",
          "data": {
            "text/plain": [
              "[<matplotlib.lines.Line2D at 0x7f5f3e477978>]"
            ]
          },
          "metadata": {
            "tags": []
          },
          "execution_count": 28
        },
        {
          "output_type": "display_data",
          "data": {
            "image/png": "[encoded data removed]",
            "text/plain": [
              "<Figure size 432x288 with 1 Axes>"
            ]
          },
          "metadata": {
            "tags": [],
            "needs_background": "light"
          }
        }
      ]
    }
  ]
}